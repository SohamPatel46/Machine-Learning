{
 "cells": [
  {
   "cell_type": "code",
   "execution_count": 1,
   "metadata": {
    "id": "pVOuMolsJmgn"
   },
   "outputs": [],
   "source": [
    "import numpy as np  #does mathematical operation\n",
    "import matplotlib.pyplot as plt #For plotting the graphs\n",
    "import pandas as pd #making the data frames and import the csv files"
   ]
  },
  {
   "cell_type": "code",
   "execution_count": 2,
   "metadata": {
    "id": "ASa8uW3vKRFk"
   },
   "outputs": [],
   "source": [
    "dataset = pd.read_csv('Bank_data.csv')      #To read the CSV File       "
   ]
  },
  {
   "cell_type": "code",
   "execution_count": 3,
   "metadata": {
    "colab": {
     "base_uri": "https://localhost:8080/",
     "height": 195
    },
    "id": "h61dm_yJKSqC",
    "outputId": "f8a2b973-608d-4473-9ce0-e50840d7fc66"
   },
   "outputs": [
    {
     "data": {
      "text/html": [
       "<div>\n",
       "<style scoped>\n",
       "    .dataframe tbody tr th:only-of-type {\n",
       "        vertical-align: middle;\n",
       "    }\n",
       "\n",
       "    .dataframe tbody tr th {\n",
       "        vertical-align: top;\n",
       "    }\n",
       "\n",
       "    .dataframe thead th {\n",
       "        text-align: right;\n",
       "    }\n",
       "</style>\n",
       "<table border=\"1\" class=\"dataframe\">\n",
       "  <thead>\n",
       "    <tr style=\"text-align: right;\">\n",
       "      <th></th>\n",
       "      <th>Unnamed: 0</th>\n",
       "      <th>interest_rate</th>\n",
       "      <th>credit</th>\n",
       "      <th>march</th>\n",
       "      <th>may</th>\n",
       "      <th>previous</th>\n",
       "      <th>duration</th>\n",
       "      <th>y</th>\n",
       "    </tr>\n",
       "  </thead>\n",
       "  <tbody>\n",
       "    <tr>\n",
       "      <th>0</th>\n",
       "      <td>0</td>\n",
       "      <td>1.334</td>\n",
       "      <td>0.0</td>\n",
       "      <td>1.0</td>\n",
       "      <td>0.0</td>\n",
       "      <td>0.0</td>\n",
       "      <td>117.0</td>\n",
       "      <td>no</td>\n",
       "    </tr>\n",
       "    <tr>\n",
       "      <th>1</th>\n",
       "      <td>1</td>\n",
       "      <td>0.767</td>\n",
       "      <td>0.0</td>\n",
       "      <td>0.0</td>\n",
       "      <td>2.0</td>\n",
       "      <td>1.0</td>\n",
       "      <td>274.0</td>\n",
       "      <td>yes</td>\n",
       "    </tr>\n",
       "    <tr>\n",
       "      <th>2</th>\n",
       "      <td>2</td>\n",
       "      <td>4.858</td>\n",
       "      <td>0.0</td>\n",
       "      <td>1.0</td>\n",
       "      <td>0.0</td>\n",
       "      <td>0.0</td>\n",
       "      <td>167.0</td>\n",
       "      <td>no</td>\n",
       "    </tr>\n",
       "    <tr>\n",
       "      <th>3</th>\n",
       "      <td>3</td>\n",
       "      <td>4.120</td>\n",
       "      <td>0.0</td>\n",
       "      <td>0.0</td>\n",
       "      <td>0.0</td>\n",
       "      <td>0.0</td>\n",
       "      <td>686.0</td>\n",
       "      <td>yes</td>\n",
       "    </tr>\n",
       "    <tr>\n",
       "      <th>4</th>\n",
       "      <td>4</td>\n",
       "      <td>4.856</td>\n",
       "      <td>0.0</td>\n",
       "      <td>1.0</td>\n",
       "      <td>0.0</td>\n",
       "      <td>0.0</td>\n",
       "      <td>157.0</td>\n",
       "      <td>no</td>\n",
       "    </tr>\n",
       "  </tbody>\n",
       "</table>\n",
       "</div>"
      ],
      "text/plain": [
       "   Unnamed: 0  interest_rate  credit  march  may  previous  duration    y\n",
       "0           0          1.334     0.0    1.0  0.0       0.0     117.0   no\n",
       "1           1          0.767     0.0    0.0  2.0       1.0     274.0  yes\n",
       "2           2          4.858     0.0    1.0  0.0       0.0     167.0   no\n",
       "3           3          4.120     0.0    0.0  0.0       0.0     686.0  yes\n",
       "4           4          4.856     0.0    1.0  0.0       0.0     157.0   no"
      ]
     },
     "execution_count": 3,
     "metadata": {},
     "output_type": "execute_result"
    }
   ],
   "source": [
    "dataset.head()      #to Print the first 5 Values of the Dataset"
   ]
  },
  {
   "cell_type": "code",
   "execution_count": 4,
   "metadata": {
    "colab": {
     "base_uri": "https://localhost:8080/",
     "height": 284
    },
    "id": "mt_1F2sDKUKf",
    "outputId": "90d0e644-fbd0-40cb-e63b-da42a44e58ea"
   },
   "outputs": [
    {
     "data": {
      "text/html": [
       "<div>\n",
       "<style scoped>\n",
       "    .dataframe tbody tr th:only-of-type {\n",
       "        vertical-align: middle;\n",
       "    }\n",
       "\n",
       "    .dataframe tbody tr th {\n",
       "        vertical-align: top;\n",
       "    }\n",
       "\n",
       "    .dataframe thead th {\n",
       "        text-align: right;\n",
       "    }\n",
       "</style>\n",
       "<table border=\"1\" class=\"dataframe\">\n",
       "  <thead>\n",
       "    <tr style=\"text-align: right;\">\n",
       "      <th></th>\n",
       "      <th>Unnamed: 0</th>\n",
       "      <th>interest_rate</th>\n",
       "      <th>credit</th>\n",
       "      <th>march</th>\n",
       "      <th>may</th>\n",
       "      <th>previous</th>\n",
       "      <th>duration</th>\n",
       "    </tr>\n",
       "  </thead>\n",
       "  <tbody>\n",
       "    <tr>\n",
       "      <th>count</th>\n",
       "      <td>518.000000</td>\n",
       "      <td>518.000000</td>\n",
       "      <td>518.000000</td>\n",
       "      <td>518.000000</td>\n",
       "      <td>518.000000</td>\n",
       "      <td>518.000000</td>\n",
       "      <td>518.000000</td>\n",
       "    </tr>\n",
       "    <tr>\n",
       "      <th>mean</th>\n",
       "      <td>258.500000</td>\n",
       "      <td>2.835776</td>\n",
       "      <td>0.034749</td>\n",
       "      <td>0.266409</td>\n",
       "      <td>0.388031</td>\n",
       "      <td>0.127413</td>\n",
       "      <td>382.177606</td>\n",
       "    </tr>\n",
       "    <tr>\n",
       "      <th>std</th>\n",
       "      <td>149.677988</td>\n",
       "      <td>1.876903</td>\n",
       "      <td>0.183321</td>\n",
       "      <td>0.442508</td>\n",
       "      <td>0.814527</td>\n",
       "      <td>0.333758</td>\n",
       "      <td>344.295990</td>\n",
       "    </tr>\n",
       "    <tr>\n",
       "      <th>min</th>\n",
       "      <td>0.000000</td>\n",
       "      <td>0.635000</td>\n",
       "      <td>0.000000</td>\n",
       "      <td>0.000000</td>\n",
       "      <td>0.000000</td>\n",
       "      <td>0.000000</td>\n",
       "      <td>9.000000</td>\n",
       "    </tr>\n",
       "    <tr>\n",
       "      <th>25%</th>\n",
       "      <td>129.250000</td>\n",
       "      <td>1.042750</td>\n",
       "      <td>0.000000</td>\n",
       "      <td>0.000000</td>\n",
       "      <td>0.000000</td>\n",
       "      <td>0.000000</td>\n",
       "      <td>155.000000</td>\n",
       "    </tr>\n",
       "    <tr>\n",
       "      <th>50%</th>\n",
       "      <td>258.500000</td>\n",
       "      <td>1.466000</td>\n",
       "      <td>0.000000</td>\n",
       "      <td>0.000000</td>\n",
       "      <td>0.000000</td>\n",
       "      <td>0.000000</td>\n",
       "      <td>266.500000</td>\n",
       "    </tr>\n",
       "    <tr>\n",
       "      <th>75%</th>\n",
       "      <td>387.750000</td>\n",
       "      <td>4.956500</td>\n",
       "      <td>0.000000</td>\n",
       "      <td>1.000000</td>\n",
       "      <td>0.000000</td>\n",
       "      <td>0.000000</td>\n",
       "      <td>482.750000</td>\n",
       "    </tr>\n",
       "    <tr>\n",
       "      <th>max</th>\n",
       "      <td>517.000000</td>\n",
       "      <td>4.970000</td>\n",
       "      <td>1.000000</td>\n",
       "      <td>1.000000</td>\n",
       "      <td>5.000000</td>\n",
       "      <td>1.000000</td>\n",
       "      <td>2653.000000</td>\n",
       "    </tr>\n",
       "  </tbody>\n",
       "</table>\n",
       "</div>"
      ],
      "text/plain": [
       "       Unnamed: 0  interest_rate      credit       march         may  \\\n",
       "count  518.000000     518.000000  518.000000  518.000000  518.000000   \n",
       "mean   258.500000       2.835776    0.034749    0.266409    0.388031   \n",
       "std    149.677988       1.876903    0.183321    0.442508    0.814527   \n",
       "min      0.000000       0.635000    0.000000    0.000000    0.000000   \n",
       "25%    129.250000       1.042750    0.000000    0.000000    0.000000   \n",
       "50%    258.500000       1.466000    0.000000    0.000000    0.000000   \n",
       "75%    387.750000       4.956500    0.000000    1.000000    0.000000   \n",
       "max    517.000000       4.970000    1.000000    1.000000    5.000000   \n",
       "\n",
       "         previous     duration  \n",
       "count  518.000000   518.000000  \n",
       "mean     0.127413   382.177606  \n",
       "std      0.333758   344.295990  \n",
       "min      0.000000     9.000000  \n",
       "25%      0.000000   155.000000  \n",
       "50%      0.000000   266.500000  \n",
       "75%      0.000000   482.750000  \n",
       "max      1.000000  2653.000000  "
      ]
     },
     "execution_count": 4,
     "metadata": {},
     "output_type": "execute_result"
    }
   ],
   "source": [
    "dataset.describe()      #Would result into the Statistical Analysis of all the data"
   ]
  },
  {
   "cell_type": "code",
   "execution_count": 5,
   "metadata": {
    "colab": {
     "base_uri": "https://localhost:8080/"
    },
    "id": "S78B-127KWBq",
    "outputId": "771831f2-e6d0-49d2-e1d6-b2eb440bf9e8"
   },
   "outputs": [
    {
     "data": {
      "text/plain": [
       "(518, 8)"
      ]
     },
     "execution_count": 5,
     "metadata": {},
     "output_type": "execute_result"
    }
   ],
   "source": [
    "dataset.shape   #Our dataset has 303 datapoints for 13 input feature and 1 output/target variable."
   ]
  },
  {
   "cell_type": "code",
   "execution_count": 6,
   "metadata": {
    "id": "ImV3KbWKKY44"
   },
   "outputs": [],
   "source": [
    "X_input_features = dataset.iloc[:,:12]      #Seperating the independent input features from the dataset"
   ]
  },
  {
   "cell_type": "code",
   "execution_count": 7,
   "metadata": {
    "colab": {
     "base_uri": "https://localhost:8080/",
     "height": 402
    },
    "id": "iylk5XbcKhxt",
    "outputId": "d7566080-6ef3-4728-a20a-3aa8d5e42eb4"
   },
   "outputs": [
    {
     "data": {
      "text/html": [
       "<div>\n",
       "<style scoped>\n",
       "    .dataframe tbody tr th:only-of-type {\n",
       "        vertical-align: middle;\n",
       "    }\n",
       "\n",
       "    .dataframe tbody tr th {\n",
       "        vertical-align: top;\n",
       "    }\n",
       "\n",
       "    .dataframe thead th {\n",
       "        text-align: right;\n",
       "    }\n",
       "</style>\n",
       "<table border=\"1\" class=\"dataframe\">\n",
       "  <thead>\n",
       "    <tr style=\"text-align: right;\">\n",
       "      <th></th>\n",
       "      <th>Unnamed: 0</th>\n",
       "      <th>interest_rate</th>\n",
       "      <th>credit</th>\n",
       "      <th>march</th>\n",
       "      <th>may</th>\n",
       "      <th>previous</th>\n",
       "      <th>duration</th>\n",
       "      <th>y</th>\n",
       "    </tr>\n",
       "  </thead>\n",
       "  <tbody>\n",
       "    <tr>\n",
       "      <th>0</th>\n",
       "      <td>0</td>\n",
       "      <td>1.334</td>\n",
       "      <td>0.0</td>\n",
       "      <td>1.0</td>\n",
       "      <td>0.0</td>\n",
       "      <td>0.0</td>\n",
       "      <td>117.0</td>\n",
       "      <td>no</td>\n",
       "    </tr>\n",
       "    <tr>\n",
       "      <th>1</th>\n",
       "      <td>1</td>\n",
       "      <td>0.767</td>\n",
       "      <td>0.0</td>\n",
       "      <td>0.0</td>\n",
       "      <td>2.0</td>\n",
       "      <td>1.0</td>\n",
       "      <td>274.0</td>\n",
       "      <td>yes</td>\n",
       "    </tr>\n",
       "    <tr>\n",
       "      <th>2</th>\n",
       "      <td>2</td>\n",
       "      <td>4.858</td>\n",
       "      <td>0.0</td>\n",
       "      <td>1.0</td>\n",
       "      <td>0.0</td>\n",
       "      <td>0.0</td>\n",
       "      <td>167.0</td>\n",
       "      <td>no</td>\n",
       "    </tr>\n",
       "    <tr>\n",
       "      <th>3</th>\n",
       "      <td>3</td>\n",
       "      <td>4.120</td>\n",
       "      <td>0.0</td>\n",
       "      <td>0.0</td>\n",
       "      <td>0.0</td>\n",
       "      <td>0.0</td>\n",
       "      <td>686.0</td>\n",
       "      <td>yes</td>\n",
       "    </tr>\n",
       "    <tr>\n",
       "      <th>4</th>\n",
       "      <td>4</td>\n",
       "      <td>4.856</td>\n",
       "      <td>0.0</td>\n",
       "      <td>1.0</td>\n",
       "      <td>0.0</td>\n",
       "      <td>0.0</td>\n",
       "      <td>157.0</td>\n",
       "      <td>no</td>\n",
       "    </tr>\n",
       "    <tr>\n",
       "      <th>...</th>\n",
       "      <td>...</td>\n",
       "      <td>...</td>\n",
       "      <td>...</td>\n",
       "      <td>...</td>\n",
       "      <td>...</td>\n",
       "      <td>...</td>\n",
       "      <td>...</td>\n",
       "      <td>...</td>\n",
       "    </tr>\n",
       "    <tr>\n",
       "      <th>513</th>\n",
       "      <td>513</td>\n",
       "      <td>1.334</td>\n",
       "      <td>0.0</td>\n",
       "      <td>1.0</td>\n",
       "      <td>0.0</td>\n",
       "      <td>0.0</td>\n",
       "      <td>204.0</td>\n",
       "      <td>no</td>\n",
       "    </tr>\n",
       "    <tr>\n",
       "      <th>514</th>\n",
       "      <td>514</td>\n",
       "      <td>0.861</td>\n",
       "      <td>0.0</td>\n",
       "      <td>0.0</td>\n",
       "      <td>2.0</td>\n",
       "      <td>1.0</td>\n",
       "      <td>806.0</td>\n",
       "      <td>yes</td>\n",
       "    </tr>\n",
       "    <tr>\n",
       "      <th>515</th>\n",
       "      <td>515</td>\n",
       "      <td>0.879</td>\n",
       "      <td>0.0</td>\n",
       "      <td>0.0</td>\n",
       "      <td>0.0</td>\n",
       "      <td>0.0</td>\n",
       "      <td>290.0</td>\n",
       "      <td>no</td>\n",
       "    </tr>\n",
       "    <tr>\n",
       "      <th>516</th>\n",
       "      <td>516</td>\n",
       "      <td>0.877</td>\n",
       "      <td>0.0</td>\n",
       "      <td>0.0</td>\n",
       "      <td>5.0</td>\n",
       "      <td>1.0</td>\n",
       "      <td>473.0</td>\n",
       "      <td>yes</td>\n",
       "    </tr>\n",
       "    <tr>\n",
       "      <th>517</th>\n",
       "      <td>517</td>\n",
       "      <td>4.965</td>\n",
       "      <td>0.0</td>\n",
       "      <td>0.0</td>\n",
       "      <td>0.0</td>\n",
       "      <td>0.0</td>\n",
       "      <td>142.0</td>\n",
       "      <td>no</td>\n",
       "    </tr>\n",
       "  </tbody>\n",
       "</table>\n",
       "<p>518 rows × 8 columns</p>\n",
       "</div>"
      ],
      "text/plain": [
       "     Unnamed: 0  interest_rate  credit  march  may  previous  duration    y\n",
       "0             0          1.334     0.0    1.0  0.0       0.0     117.0   no\n",
       "1             1          0.767     0.0    0.0  2.0       1.0     274.0  yes\n",
       "2             2          4.858     0.0    1.0  0.0       0.0     167.0   no\n",
       "3             3          4.120     0.0    0.0  0.0       0.0     686.0  yes\n",
       "4             4          4.856     0.0    1.0  0.0       0.0     157.0   no\n",
       "..          ...            ...     ...    ...  ...       ...       ...  ...\n",
       "513         513          1.334     0.0    1.0  0.0       0.0     204.0   no\n",
       "514         514          0.861     0.0    0.0  2.0       1.0     806.0  yes\n",
       "515         515          0.879     0.0    0.0  0.0       0.0     290.0   no\n",
       "516         516          0.877     0.0    0.0  5.0       1.0     473.0  yes\n",
       "517         517          4.965     0.0    0.0  0.0       0.0     142.0   no\n",
       "\n",
       "[518 rows x 8 columns]"
      ]
     },
     "execution_count": 7,
     "metadata": {},
     "output_type": "execute_result"
    }
   ],
   "source": [
    "X_input_features        #printing the result"
   ]
  },
  {
   "cell_type": "code",
   "execution_count": 8,
   "metadata": {
    "id": "Ro2EMUtnKi2y"
   },
   "outputs": [],
   "source": [
    "Y_target_variable = dataset.iloc[:,-1]         #seperating the target or dependent variable Y from the Dataset      "
   ]
  },
  {
   "cell_type": "code",
   "execution_count": 9,
   "metadata": {
    "colab": {
     "base_uri": "https://localhost:8080/"
    },
    "id": "-PlfWsKbKkXL",
    "outputId": "9ecdb958-72f3-4554-e650-ec1915aefdd0"
   },
   "outputs": [
    {
     "data": {
      "text/plain": [
       "0       no\n",
       "1      yes\n",
       "2       no\n",
       "3      yes\n",
       "4       no\n",
       "      ... \n",
       "513     no\n",
       "514    yes\n",
       "515     no\n",
       "516    yes\n",
       "517     no\n",
       "Name: y, Length: 518, dtype: object"
      ]
     },
     "execution_count": 9,
     "metadata": {},
     "output_type": "execute_result"
    }
   ],
   "source": [
    "Y_target_variable       #printing the result"
   ]
  },
  {
   "cell_type": "code",
   "execution_count": 13,
   "metadata": {
    "id": "pmf3LHWcKlvm"
   },
   "outputs": [],
   "source": [
    "isHeart_risk = dataset.loc[Y_target_variable==1]        #Seperatign the patient who has heart risk"
   ]
  },
  {
   "cell_type": "code",
   "execution_count": 14,
   "metadata": {
    "id": "aB6M3SM1KnSL"
   },
   "outputs": [],
   "source": [
    "notHeart_risk = dataset.loc[Y_target_variable==0]       #Seperatign the patient who not have heart risk"
   ]
  },
  {
   "cell_type": "code",
   "execution_count": null,
   "metadata": {
    "id": "uIeqZJF9Kohv"
   },
   "outputs": [],
   "source": [
    "#Plot to show the difference in the classes given in the dataset.\n",
    "plt.scatter(isHeart_risk.iloc[:, 0], isHeart_risk.iloc[:, 1], s=10, label='HeartRisk')\n",
    "plt.scatter(notHeart_risk.iloc[:, 0], notHeart_risk.iloc[:, 1], s=10, label='Not HeartRisk')\n",
    "plt.legend()\n",
    "plt.show()\n",
    "plt.title('Graph for the people who have heart risk or not based on age and sex')"
   ]
  },
  {
   "cell_type": "code",
   "execution_count": 16,
   "metadata": {
    "id": "KUMAsLmDKuu_"
   },
   "outputs": [],
   "source": [
    "#import the library for the testing and the training split.\n",
    "from sklearn.model_selection import train_test_split"
   ]
  },
  {
   "cell_type": "code",
   "execution_count": 17,
   "metadata": {
    "id": "IOwBgyPEKxmD"
   },
   "outputs": [],
   "source": [
    "#convert to the array\n",
    "X_input_features = np.array(X_input_features)\n",
    "Y_target_variable = np.array(Y_target_variable)"
   ]
  },
  {
   "cell_type": "code",
   "execution_count": 18,
   "metadata": {
    "id": "rctBB6etKz0g"
   },
   "outputs": [],
   "source": [
    "X_train,X_test,Y_train,Y_test = train_test_split(X_input_features,Y_target_variable,test_size=0.25,random_state=42)      #First train and test data for featureand then for labels"
   ]
  },
  {
   "cell_type": "code",
   "execution_count": 19,
   "metadata": {
    "colab": {
     "base_uri": "https://localhost:8080/"
    },
    "id": "WSij9yX9K14r",
    "outputId": "8d5bdd78-1cb1-45a7-d9be-e2c34baf71c7"
   },
   "outputs": [
    {
     "name": "stdout",
     "output_type": "stream",
     "text": [
      "(227, 12)\n",
      "(76, 12)\n",
      "(227,)\n",
      "(76,)\n"
     ]
    }
   ],
   "source": [
    "#Seeing all 4 seperated values.\n",
    "'''\n",
    "print(X_train)\n",
    "print(X_test)\n",
    "print(Y_train)\n",
    "print(Y_test)\n",
    "'''\n",
    "print(X_train.shape)\n",
    "print(X_test.shape)\n",
    "print(Y_train.shape)\n",
    "print(Y_test.shape)"
   ]
  },
  {
   "cell_type": "code",
   "execution_count": 20,
   "metadata": {
    "id": "Eyl73X8zK3d7"
   },
   "outputs": [],
   "source": [
    "#Import the KNN classifire libraray for model evaluation\n",
    "from sklearn.neighbors import KNeighborsClassifier"
   ]
  },
  {
   "cell_type": "code",
   "execution_count": 29,
   "metadata": {
    "id": "eH_RF8f5LMaz"
   },
   "outputs": [],
   "source": [
    "#Model Evaluation for the neighours = 3\n",
    "knn_model_evaluation_K_3 = KNeighborsClassifier(n_neighbors=3)"
   ]
  },
  {
   "cell_type": "code",
   "execution_count": 23,
   "metadata": {
    "colab": {
     "base_uri": "https://localhost:8080/"
    },
    "id": "qg4LRPWCLU-9",
    "outputId": "2e8a994b-9506-4cbb-8b5b-4d6db3e44d0a"
   },
   "outputs": [
    {
     "data": {
      "text/plain": [
       "KNeighborsClassifier(algorithm='auto', leaf_size=30, metric='minkowski',\n",
       "                     metric_params=None, n_jobs=None, n_neighbors=3, p=2,\n",
       "                     weights='uniform')"
      ]
     },
     "execution_count": 23,
     "metadata": {
      "tags": []
     },
     "output_type": "execute_result"
    }
   ],
   "source": [
    "knn_model_evaluation_K_3.fit(X_train,Y_train)"
   ]
  },
  {
   "cell_type": "code",
   "execution_count": 24,
   "metadata": {
    "id": "hntRXwHTLocI"
   },
   "outputs": [],
   "source": [
    "Y_pred_model_k_3 = knn_model_evaluation_K_3.predict(X_test)"
   ]
  },
  {
   "cell_type": "code",
   "execution_count": 25,
   "metadata": {
    "id": "lSegDJG9L75E"
   },
   "outputs": [],
   "source": [
    "#priting the confusion matrix based on the prediction\n",
    "#import the confusion matrix library\n",
    "from sklearn import metrics"
   ]
  },
  {
   "cell_type": "code",
   "execution_count": 26,
   "metadata": {
    "id": "6g5fyIyyL-_J"
   },
   "outputs": [],
   "source": [
    "#making the confusion matrix\n",
    "confusion_matrixx = metrics.confusion_matrix(Y_test,Y_pred_model_k_3)"
   ]
  },
  {
   "cell_type": "code",
   "execution_count": 27,
   "metadata": {
    "colab": {
     "base_uri": "https://localhost:8080/"
    },
    "id": "XL-xF8pKMDAJ",
    "outputId": "af46dcc8-5f35-474d-bf6c-8ac3e1c67f34"
   },
   "outputs": [
    {
     "data": {
      "text/plain": [
       "array([[24, 11],\n",
       "       [14, 27]])"
      ]
     },
     "execution_count": 27,
     "metadata": {
      "tags": []
     },
     "output_type": "execute_result"
    }
   ],
   "source": [
    "confusion_matrixx       #print the confusion matrix"
   ]
  },
  {
   "cell_type": "code",
   "execution_count": 28,
   "metadata": {
    "colab": {
     "base_uri": "https://localhost:8080/"
    },
    "id": "jNqh-47ZMFOn",
    "outputId": "c85a56a7-a960-4331-b9df-10db4cb96f82"
   },
   "outputs": [
    {
     "name": "stdout",
     "output_type": "stream",
     "text": [
      "Accuracy: 0.6710526315789473\n",
      "Precision: 0.7105263157894737\n",
      "Recall: 0.6585365853658537\n"
     ]
    }
   ],
   "source": [
    "#printing the Parameter for the model learining like accuracy , precision and recall\n",
    "print(\"Accuracy:\",metrics.accuracy_score(Y_test, Y_pred_model_k_3))\n",
    "print(\"Precision:\",metrics.precision_score(Y_test, Y_pred_model_k_3))\n",
    "print(\"Recall:\",metrics.recall_score(Y_test, Y_pred_model_k_3))"
   ]
  },
  {
   "cell_type": "code",
   "execution_count": 31,
   "metadata": {
    "colab": {
     "base_uri": "https://localhost:8080/"
    },
    "id": "j_IEOPl6MJk3",
    "outputId": "4856ab37-a657-48cb-fadf-89fcd91b9a05"
   },
   "outputs": [
    {
     "name": "stdout",
     "output_type": "stream",
     "text": [
      "[[22 13]\n",
      " [10 31]]\n",
      "Accuracy: 0.6973684210526315\n",
      "Precision: 0.7045454545454546\n",
      "Recall: 0.7560975609756098\n"
     ]
    }
   ],
   "source": [
    "#For the K value of = 5\n",
    "knn_model_evaluation_K_5 = KNeighborsClassifier(n_neighbors=5)\n",
    "knn_model_evaluation_K_5.fit(X_train,Y_train)\n",
    "Y_pred_model_k_5 = knn_model_evaluation_K_5.predict(X_test)\n",
    "confusion_matrixx = metrics.confusion_matrix(Y_test,Y_pred_model_k_5)\n",
    "print(confusion_matrixx)       #print the confusion matrix\n",
    "#printing the Parameter for the model learining like accuracy , precision and recall\n",
    "print(\"Accuracy:\",metrics.accuracy_score(Y_test, Y_pred_model_k_5))\n",
    "print(\"Precision:\",metrics.precision_score(Y_test, Y_pred_model_k_5))\n",
    "print(\"Recall:\",metrics.recall_score(Y_test, Y_pred_model_k_5))"
   ]
  },
  {
   "cell_type": "code",
   "execution_count": 32,
   "metadata": {
    "colab": {
     "base_uri": "https://localhost:8080/"
    },
    "id": "N4hP88c4MeDi",
    "outputId": "2c124395-217b-4c23-d3d5-32ad9bfe3dae"
   },
   "outputs": [
    {
     "name": "stdout",
     "output_type": "stream",
     "text": [
      "[[22 13]\n",
      " [ 8 33]]\n",
      "Accuracy: 0.7236842105263158\n",
      "Precision: 0.717391304347826\n",
      "Recall: 0.8048780487804879\n"
     ]
    }
   ],
   "source": [
    "#For the K value of = 7\n",
    "knn_model_evaluation_K_7= KNeighborsClassifier(n_neighbors=7)\n",
    "knn_model_evaluation_K_7.fit(X_train,Y_train)\n",
    "Y_pred_model_k_7= knn_model_evaluation_K_7.predict(X_test)\n",
    "confusion_matrixx = metrics.confusion_matrix(Y_test,Y_pred_model_k_7)\n",
    "print(confusion_matrixx)       #print the confusion matrix\n",
    "#printing the Parameter for the model learining like accuracy , precision and recall\n",
    "print(\"Accuracy:\",metrics.accuracy_score(Y_test, Y_pred_model_k_7))\n",
    "print(\"Precision:\",metrics.precision_score(Y_test, Y_pred_model_k_7))\n",
    "print(\"Recall:\",metrics.recall_score(Y_test, Y_pred_model_k_7))"
   ]
  },
  {
   "cell_type": "code",
   "execution_count": 33,
   "metadata": {
    "colab": {
     "base_uri": "https://localhost:8080/"
    },
    "id": "07oDQpUwMu5V",
    "outputId": "f73fdec6-8ee4-4f33-f6af-c39b978dc3c1"
   },
   "outputs": [
    {
     "name": "stdout",
     "output_type": "stream",
     "text": [
      "[[20 15]\n",
      " [ 7 34]]\n",
      "Accuracy: 0.7105263157894737\n",
      "Precision: 0.6938775510204082\n",
      "Recall: 0.8292682926829268\n"
     ]
    }
   ],
   "source": [
    "#For the K value of = 9\n",
    "knn_model_evaluation_K_9= KNeighborsClassifier(n_neighbors=9)\n",
    "knn_model_evaluation_K_9.fit(X_train,Y_train)\n",
    "Y_pred_model_k_9= knn_model_evaluation_K_9.predict(X_test)\n",
    "confusion_matrixx = metrics.confusion_matrix(Y_test,Y_pred_model_k_9)\n",
    "print(confusion_matrixx)       #print the confusion matrix\n",
    "#printing the Parameter for the model learining like accuracy , precision and recall\n",
    "print(\"Accuracy:\",metrics.accuracy_score(Y_test, Y_pred_model_k_9))\n",
    "print(\"Precision:\",metrics.precision_score(Y_test, Y_pred_model_k_9))\n",
    "print(\"Recall:\",metrics.recall_score(Y_test, Y_pred_model_k_9))"
   ]
  },
  {
   "cell_type": "code",
   "execution_count": 34,
   "metadata": {
    "colab": {
     "base_uri": "https://localhost:8080/"
    },
    "id": "W1jpxeD-M6pH",
    "outputId": "35fd8c7a-0c3b-4f91-dbe1-c1ace84714b6"
   },
   "outputs": [
    {
     "name": "stdout",
     "output_type": "stream",
     "text": [
      "[[23 12]\n",
      " [ 7 34]]\n",
      "Accuracy: 0.75\n",
      "Precision: 0.7391304347826086\n",
      "Recall: 0.8292682926829268\n"
     ]
    }
   ],
   "source": [
    "#For the K value of = 11\n",
    "knn_model_evaluation_K_11= KNeighborsClassifier(n_neighbors=11)\n",
    "knn_model_evaluation_K_11.fit(X_train,Y_train)\n",
    "Y_pred_model_k_11= knn_model_evaluation_K_11.predict(X_test)\n",
    "confusion_matrixx = metrics.confusion_matrix(Y_test,Y_pred_model_k_11)\n",
    "print(confusion_matrixx)       #print the confusion matrix\n",
    "#printing the Parameter for the model learining like accuracy , precision and recall\n",
    "print(\"Accuracy:\",metrics.accuracy_score(Y_test, Y_pred_model_k_11))\n",
    "print(\"Precision:\",metrics.precision_score(Y_test, Y_pred_model_k_11))\n",
    "print(\"Recall:\",metrics.recall_score(Y_test, Y_pred_model_k_11))"
   ]
  },
  {
   "cell_type": "code",
   "execution_count": 35,
   "metadata": {
    "colab": {
     "base_uri": "https://localhost:8080/"
    },
    "id": "Cw_pe_YzNJ-1",
    "outputId": "9dc50aac-6bab-4e21-dacd-5994509fbe57"
   },
   "outputs": [
    {
     "name": "stdout",
     "output_type": "stream",
     "text": [
      "[[22 13]\n",
      " [ 9 32]]\n",
      "Accuracy: 0.7105263157894737\n",
      "Precision: 0.7111111111111111\n",
      "Recall: 0.7804878048780488\n"
     ]
    }
   ],
   "source": [
    "#For the K value of = 13\n",
    "knn_model_evaluation_K_13= KNeighborsClassifier(n_neighbors=13)\n",
    "knn_model_evaluation_K_13.fit(X_train,Y_train)\n",
    "Y_pred_model_k_13= knn_model_evaluation_K_13.predict(X_test)\n",
    "confusion_matrixx = metrics.confusion_matrix(Y_test,Y_pred_model_k_13)\n",
    "print(confusion_matrixx)       #print the confusion matrix\n",
    "#printing the Parameter for the model learining like accuracy , precision and recall\n",
    "print(\"Accuracy:\",metrics.accuracy_score(Y_test, Y_pred_model_k_13))\n",
    "print(\"Precision:\",metrics.precision_score(Y_test, Y_pred_model_k_13))\n",
    "print(\"Recall:\",metrics.recall_score(Y_test, Y_pred_model_k_13))"
   ]
  },
  {
   "cell_type": "code",
   "execution_count": null,
   "metadata": {
    "id": "WrZWe_apNXOm"
   },
   "outputs": [],
   "source": []
  }
 ],
 "metadata": {
  "colab": {
   "collapsed_sections": [],
   "name": "KNN_individual_dataset_heart.ipynb",
   "provenance": []
  },
  "kernelspec": {
   "display_name": "Python 3",
   "language": "python",
   "name": "python3"
  },
  "language_info": {
   "codemirror_mode": {
    "name": "ipython",
    "version": 3
   },
   "file_extension": ".py",
   "mimetype": "text/x-python",
   "name": "python",
   "nbconvert_exporter": "python",
   "pygments_lexer": "ipython3",
   "version": "3.7.6"
  }
 },
 "nbformat": 4,
 "nbformat_minor": 1
}
